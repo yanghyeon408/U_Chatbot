{
 "cells": [
  {
   "cell_type": "code",
   "execution_count": 1,
   "id": "51882c7d-d120-4c1d-91cb-88a7d59d4b8e",
   "metadata": {},
   "outputs": [],
   "source": [
    "import pandas as pd\n",
    "import warnings\n",
    "from elasticsearch import Elasticsearch\n",
    "from langchain.embeddings import HuggingFaceEmbeddings\n",
    "from langchain.vectorstores import ElasticsearchStore\n",
    "import nltk\n",
    "from nltk.tokenize import sent_tokenize\n",
    "from langchain.text_splitter import CharacterTextSplitter"
   ]
  },
  {
   "cell_type": "code",
   "execution_count": 2,
   "id": "9e40fe4c-7765-44e5-b344-7a2b8b5ca40d",
   "metadata": {},
   "outputs": [],
   "source": [
    "# warning blind\n",
    "warnings.filterwarnings('ignore') #default : warning 다시 보이게 함"
   ]
  },
  {
   "cell_type": "code",
   "execution_count": 3,
   "id": "6bfb6ddd-5cad-40da-8a71-d3b8bbe44b63",
   "metadata": {},
   "outputs": [],
   "source": [
    "df = pd.read_csv('TEXT_UTF_20240222.csv', encoding='utf-8')"
   ]
  },
  {
   "cell_type": "code",
   "execution_count": 4,
   "id": "8c90acfc-eae2-471b-b9eb-c2e817947d96",
   "metadata": {},
   "outputs": [
    {
     "name": "stdout",
     "output_type": "stream",
     "text": [
      "<class 'pandas.core.frame.DataFrame'>\n",
      "RangeIndex: 250 entries, 0 to 249\n",
      "Data columns (total 6 columns):\n",
      " #   Column      Non-Null Count  Dtype \n",
      "---  ------      --------------  ----- \n",
      " 0   DOC_ID      250 non-null    int64 \n",
      " 1   DOC_TITLE   250 non-null    object\n",
      " 2   Unnamed: 2  209 non-null    object\n",
      " 3   META        250 non-null    object\n",
      " 4   HEADER      250 non-null    object\n",
      " 5   TEXT        250 non-null    object\n",
      "dtypes: int64(1), object(5)\n",
      "memory usage: 11.8+ KB\n"
     ]
    }
   ],
   "source": [
    "df.info()"
   ]
  },
  {
   "cell_type": "code",
   "execution_count": 5,
   "id": "d4333490-7203-497f-a90d-fe9927b73ca8",
   "metadata": {},
   "outputs": [
    {
     "data": {
      "text/html": [
       "<div>\n",
       "<style scoped>\n",
       "    .dataframe tbody tr th:only-of-type {\n",
       "        vertical-align: middle;\n",
       "    }\n",
       "\n",
       "    .dataframe tbody tr th {\n",
       "        vertical-align: top;\n",
       "    }\n",
       "\n",
       "    .dataframe thead th {\n",
       "        text-align: right;\n",
       "    }\n",
       "</style>\n",
       "<table border=\"1\" class=\"dataframe\">\n",
       "  <thead>\n",
       "    <tr style=\"text-align: right;\">\n",
       "      <th></th>\n",
       "      <th>DOC_ID</th>\n",
       "      <th>DOC_TITLE</th>\n",
       "      <th>Unnamed: 2</th>\n",
       "      <th>META</th>\n",
       "      <th>HEADER</th>\n",
       "      <th>TEXT</th>\n",
       "    </tr>\n",
       "  </thead>\n",
       "  <tbody>\n",
       "    <tr>\n",
       "      <th>0</th>\n",
       "      <td>1</td>\n",
       "      <td>교육과정_편성_및_운영지침(20230828)_데모_작업</td>\n",
       "      <td>NaN</td>\n",
       "      <td>제1조(목적)</td>\n",
       "      <td>제1조(목적)</td>\n",
       "      <td>이 지침은 학칙시행세칙 제3장에서 정한 교육과정 관련 규정에 대한 세부사항을 정함을...</td>\n",
       "    </tr>\n",
       "    <tr>\n",
       "      <th>1</th>\n",
       "      <td>1</td>\n",
       "      <td>교육과정_편성_및_운영지침(20230829)_데모_작업</td>\n",
       "      <td>NaN</td>\n",
       "      <td>제2조(편성원칙)</td>\n",
       "      <td>제2조(편성원칙)</td>\n",
       "      <td>①교육과정은 사회 변화와 학생 요구 등을 반영하고 본교 교육목표에 맞는 인재를 양성...</td>\n",
       "    </tr>\n",
       "    <tr>\n",
       "      <th>2</th>\n",
       "      <td>1</td>\n",
       "      <td>교육과정_편성_및_운영지침(20230830)_데모_작업</td>\n",
       "      <td>NaN</td>\n",
       "      <td>제3조(교과목의 구분)</td>\n",
       "      <td>제3조(교과목의 구분)</td>\n",
       "      <td>①학사과정의 교과목은 다음 각호와 같이 구분한다.\\r\\n1. 성균교양(중점·균형)과...</td>\n",
       "    </tr>\n",
       "    <tr>\n",
       "      <th>3</th>\n",
       "      <td>1</td>\n",
       "      <td>교육과정_편성_및_운영지침(20230831)_데모_작업</td>\n",
       "      <td>NaN</td>\n",
       "      <td>제4조(교과목 편성시기)</td>\n",
       "      <td>제4조(교과목 편성시기)</td>\n",
       "      <td>①교과목은 매학년도 1회 교무처에서 안내하는 지정기간내에 편성하는\\r\\n것을 원칙으...</td>\n",
       "    </tr>\n",
       "    <tr>\n",
       "      <th>4</th>\n",
       "      <td>1</td>\n",
       "      <td>교육과정_편성_및_운영지침(20230832)_데모_작업</td>\n",
       "      <td>NaN</td>\n",
       "      <td>제5조(교과목 편성신청 및 승인)</td>\n",
       "      <td>제5조(교과목 편성신청 및 승인)</td>\n",
       "      <td>①교과목의 편성(신규 및 변경, 삭제 포함)은 학과장의 요청에 따라 학장이 공문으로...</td>\n",
       "    </tr>\n",
       "  </tbody>\n",
       "</table>\n",
       "</div>"
      ],
      "text/plain": [
       "   DOC_ID                       DOC_TITLE Unnamed: 2                META  \\\n",
       "0       1  교육과정_편성_및_운영지침(20230828)_데모_작업        NaN             제1조(목적)   \n",
       "1       1  교육과정_편성_및_운영지침(20230829)_데모_작업        NaN           제2조(편성원칙)   \n",
       "2       1  교육과정_편성_및_운영지침(20230830)_데모_작업        NaN        제3조(교과목의 구분)   \n",
       "3       1  교육과정_편성_및_운영지침(20230831)_데모_작업        NaN       제4조(교과목 편성시기)   \n",
       "4       1  교육과정_편성_및_운영지침(20230832)_데모_작업        NaN  제5조(교과목 편성신청 및 승인)   \n",
       "\n",
       "                HEADER                                               TEXT  \n",
       "0              제1조(목적)  이 지침은 학칙시행세칙 제3장에서 정한 교육과정 관련 규정에 대한 세부사항을 정함을...  \n",
       "1            제2조(편성원칙)  ①교육과정은 사회 변화와 학생 요구 등을 반영하고 본교 교육목표에 맞는 인재를 양성...  \n",
       "2         제3조(교과목의 구분)  ①학사과정의 교과목은 다음 각호와 같이 구분한다.\\r\\n1. 성균교양(중점·균형)과...  \n",
       "3        제4조(교과목 편성시기)  ①교과목은 매학년도 1회 교무처에서 안내하는 지정기간내에 편성하는\\r\\n것을 원칙으...  \n",
       "4   제5조(교과목 편성신청 및 승인)  ①교과목의 편성(신규 및 변경, 삭제 포함)은 학과장의 요청에 따라 학장이 공문으로...  "
      ]
     },
     "execution_count": 5,
     "metadata": {},
     "output_type": "execute_result"
    }
   ],
   "source": [
    "df.head()"
   ]
  },
  {
   "cell_type": "code",
   "execution_count": 6,
   "id": "7c8ddd11-e677-42d8-bf12-54c921a2de5b",
   "metadata": {},
   "outputs": [
    {
     "data": {
      "text/plain": [
       "' 제1조(목적)'"
      ]
     },
     "execution_count": 6,
     "metadata": {},
     "output_type": "execute_result"
    }
   ],
   "source": [
    "df['HEADER'][0]"
   ]
  },
  {
   "cell_type": "code",
   "execution_count": 7,
   "id": "5765bca2-1275-459d-a2bb-1ee554a1ba5f",
   "metadata": {},
   "outputs": [],
   "source": [
    "for i in range(len(df)):\n",
    "    text = df['HEADER'][i]\n",
    "    df['HEADER'][i] = text.strip()"
   ]
  },
  {
   "cell_type": "code",
   "execution_count": 8,
   "id": "687994c9-54f8-4eb7-a857-fed80537e4ae",
   "metadata": {},
   "outputs": [
    {
     "data": {
      "text/plain": [
       "'제1조(목적)'"
      ]
     },
     "execution_count": 8,
     "metadata": {},
     "output_type": "execute_result"
    }
   ],
   "source": [
    "df['HEADER'][0]"
   ]
  },
  {
   "cell_type": "code",
   "execution_count": 9,
   "id": "1ffcf762-808b-4f5a-a36c-433cf33e56a6",
   "metadata": {},
   "outputs": [
    {
     "data": {
      "text/html": [
       "<div>\n",
       "<style scoped>\n",
       "    .dataframe tbody tr th:only-of-type {\n",
       "        vertical-align: middle;\n",
       "    }\n",
       "\n",
       "    .dataframe tbody tr th {\n",
       "        vertical-align: top;\n",
       "    }\n",
       "\n",
       "    .dataframe thead th {\n",
       "        text-align: right;\n",
       "    }\n",
       "</style>\n",
       "<table border=\"1\" class=\"dataframe\">\n",
       "  <thead>\n",
       "    <tr style=\"text-align: right;\">\n",
       "      <th></th>\n",
       "      <th>DOC_ID</th>\n",
       "      <th>DOC_TITLE</th>\n",
       "      <th>Unnamed: 2</th>\n",
       "      <th>META</th>\n",
       "      <th>HEADER</th>\n",
       "      <th>TEXT</th>\n",
       "    </tr>\n",
       "  </thead>\n",
       "  <tbody>\n",
       "    <tr>\n",
       "      <th>20</th>\n",
       "      <td>2</td>\n",
       "      <td>성균관대학교_학칙_본문</td>\n",
       "      <td>제 1 장 총 칙</td>\n",
       "      <td>제3조(정의)</td>\n",
       "      <td>제 1 장 총 칙 제3조(정의)</td>\n",
       "      <td>①“학사과정”이라 함은 학사학위를, “석사과정”이라 함은 석사학위를, “학석사통합과...</td>\n",
       "    </tr>\n",
       "    <tr>\n",
       "      <th>21</th>\n",
       "      <td>2</td>\n",
       "      <td>성균관대학교_학칙_본문</td>\n",
       "      <td>제 2 장 편제 제 1 절 교육조직</td>\n",
       "      <td>제4조(교육조직)</td>\n",
       "      <td>제 2 장 편제 제 1 절 교육조직 제4조(교육조직)</td>\n",
       "      <td>①본교에 다음과 같은 대학을 둔다. 1. 학부대학 2. 유학대학, 문과대학, 사회과...</td>\n",
       "    </tr>\n",
       "    <tr>\n",
       "      <th>22</th>\n",
       "      <td>2</td>\n",
       "      <td>성균관대학교_학칙_본문</td>\n",
       "      <td>제 2 장 편제 제 1 절 교육조직</td>\n",
       "      <td>제5조(과정)</td>\n",
       "      <td>제 2 장 편제 제 1 절 교육조직 제5조(과정)</td>\n",
       "      <td>①대학에 학사과정(이하 ‘학석사통합과정 내 학사과정’을 포함한다.)을 두며, 학위를...</td>\n",
       "    </tr>\n",
       "    <tr>\n",
       "      <th>23</th>\n",
       "      <td>2</td>\n",
       "      <td>성균관대학교_학칙_본문</td>\n",
       "      <td>제 2 장 편제 제 1 절 교육조직</td>\n",
       "      <td>제6조(과정별 학과 편성 및 입학정원)</td>\n",
       "      <td>제 2 장 편제 제 1 절 교육조직 제6조(과정별 학과 편성 및 입학정원)</td>\n",
       "      <td>①학사과정의 대학에 설치하는 학과(학부)(이하 ‘학과’라 한다)와 모집단위별 입학정...</td>\n",
       "    </tr>\n",
       "    <tr>\n",
       "      <th>24</th>\n",
       "      <td>2</td>\n",
       "      <td>성균관대학교_학칙_본문</td>\n",
       "      <td>제 2 장 편제 제 1 절 교육조직</td>\n",
       "      <td>제6조의2(학사과정 및 대학원과정의 전공 이수 방법)</td>\n",
       "      <td>제 2 장 편제 제 1 절 교육조직 제6조의2(학사과정 및 대학원과정의 전공 이수 방법)</td>\n",
       "      <td>①학사과정 학생은 소속학과를 제1전공으로 이수하여야 한다. 다만, 총장의 허가를 받...</td>\n",
       "    </tr>\n",
       "  </tbody>\n",
       "</table>\n",
       "</div>"
      ],
      "text/plain": [
       "    DOC_ID     DOC_TITLE           Unnamed: 2                           META  \\\n",
       "20       2  성균관대학교_학칙_본문            제 1 장 총 칙                        제3조(정의)   \n",
       "21       2  성균관대학교_학칙_본문  제 2 장 편제 제 1 절 교육조직                      제4조(교육조직)   \n",
       "22       2  성균관대학교_학칙_본문  제 2 장 편제 제 1 절 교육조직                        제5조(과정)   \n",
       "23       2  성균관대학교_학칙_본문  제 2 장 편제 제 1 절 교육조직          제6조(과정별 학과 편성 및 입학정원)   \n",
       "24       2  성균관대학교_학칙_본문  제 2 장 편제 제 1 절 교육조직  제6조의2(학사과정 및 대학원과정의 전공 이수 방법)   \n",
       "\n",
       "                                               HEADER  \\\n",
       "20                                  제 1 장 총 칙 제3조(정의)   \n",
       "21                      제 2 장 편제 제 1 절 교육조직 제4조(교육조직)   \n",
       "22                        제 2 장 편제 제 1 절 교육조직 제5조(과정)   \n",
       "23          제 2 장 편제 제 1 절 교육조직 제6조(과정별 학과 편성 및 입학정원)   \n",
       "24  제 2 장 편제 제 1 절 교육조직 제6조의2(학사과정 및 대학원과정의 전공 이수 방법)   \n",
       "\n",
       "                                                 TEXT  \n",
       "20  ①“학사과정”이라 함은 학사학위를, “석사과정”이라 함은 석사학위를, “학석사통합과...  \n",
       "21  ①본교에 다음과 같은 대학을 둔다. 1. 학부대학 2. 유학대학, 문과대학, 사회과...  \n",
       "22  ①대학에 학사과정(이하 ‘학석사통합과정 내 학사과정’을 포함한다.)을 두며, 학위를...  \n",
       "23  ①학사과정의 대학에 설치하는 학과(학부)(이하 ‘학과’라 한다)와 모집단위별 입학정...  \n",
       "24  ①학사과정 학생은 소속학과를 제1전공으로 이수하여야 한다. 다만, 총장의 허가를 받...  "
      ]
     },
     "execution_count": 9,
     "metadata": {},
     "output_type": "execute_result"
    }
   ],
   "source": [
    "df[20:25]"
   ]
  },
  {
   "cell_type": "code",
   "execution_count": 10,
   "id": "82df6ddd-84a8-4c72-81d1-dbfb8f7cb669",
   "metadata": {},
   "outputs": [],
   "source": [
    "import re\n",
    "\n",
    "def textReplace(str):\n",
    "    result = re.sub('\\r\\n', ' ', str)\n",
    "    return result"
   ]
  },
  {
   "cell_type": "code",
   "execution_count": 11,
   "id": "26d9dfaa-4910-4499-a406-8a0720bf462b",
   "metadata": {},
   "outputs": [],
   "source": [
    "df['NEW_BODY'] = None"
   ]
  },
  {
   "cell_type": "code",
   "execution_count": 12,
   "id": "f87af64d-036b-462a-876f-db15fe4a82fd",
   "metadata": {},
   "outputs": [],
   "source": [
    "for i in range(len(df)):\n",
    "    body = df['TEXT'][i]\n",
    "\n",
    "    new_body = textReplace(body)\n",
    "    df['NEW_BODY'][i] = new_body"
   ]
  },
  {
   "cell_type": "markdown",
   "id": "28fdeb8d-298f-443a-99ac-52c04eadcb3e",
   "metadata": {},
   "source": [
    "# VECTORDB CONNECT"
   ]
  },
  {
   "cell_type": "code",
   "execution_count": 13,
   "id": "8c9811f6-a7c5-467c-8b96-a96e121573dc",
   "metadata": {},
   "outputs": [],
   "source": [
    "ELASTIC_SEARCH_SERVER = \"https://user_elasticsearch_ip:9200\"\n",
    "ELASTIC_USER = \"userid\"\n",
    "ELASTIC_PASSWORD = \"password\""
   ]
  },
  {
   "cell_type": "code",
   "execution_count": 14,
   "id": "49a32f7b-84e7-450b-8f9f-14bac013d4cd",
   "metadata": {},
   "outputs": [
    {
     "data": {
      "text/plain": [
       "ObjectApiResponse({'name': 'es01', 'cluster_name': 'docker-cluster', 'cluster_uuid': 'BYTTI105SDiW5TWzkXd2Sw', 'version': {'number': '8.12.1', 'build_flavor': 'default', 'build_type': 'docker', 'build_hash': '6185ba65d27469afabc9bc951cded6c17c21e3f3', 'build_date': '2024-02-01T13:07:13.727175297Z', 'build_snapshot': False, 'lucene_version': '9.9.2', 'minimum_wire_compatibility_version': '7.17.0', 'minimum_index_compatibility_version': '7.0.0'}, 'tagline': 'You Know, for Search'})"
      ]
     },
     "execution_count": 14,
     "metadata": {},
     "output_type": "execute_result"
    }
   ],
   "source": [
    "# Connect Elasticsearch server\n",
    "es_connection = Elasticsearch(ELASTIC_SEARCH_SERVER,\n",
    "                            ca_certs=False,\n",
    "                            verify_certs=False,\n",
    "                            basic_auth =( ELASTIC_USER , ELASTIC_PASSWORD ),\n",
    "                            timeout=120)\n",
    "\n",
    "es_connection.info()"
   ]
  },
  {
   "cell_type": "code",
   "execution_count": 15,
   "id": "e215158f-acbc-4928-b4d9-cebe0a90ae58",
   "metadata": {},
   "outputs": [],
   "source": [
    "# index config\n",
    "index_body = {\n",
    "  \"settings\": {\n",
    "      \"number_of_shards\": 1,\n",
    "      \"number_of_replicas\": 0\n",
    "  },  \n",
    "  \"mappings\": {\n",
    "    \"properties\": {\n",
    "      \"metadata\": {\n",
    "        \"properties\": {\n",
    "          \"doc_id\": {\n",
    "            \"type\": \"text\",\n",
    "            \"fields\": {\n",
    "              \"keyword\": {\n",
    "                \"type\": \"keyword\",\n",
    "                \"ignore_above\": 256\n",
    "              }\n",
    "            }\n",
    "          },\n",
    "        \"table_id\": {\n",
    "            \"type\": \"text\",\n",
    "            \"fields\": {\n",
    "              \"keyword\": {\n",
    "                \"type\": \"keyword\",\n",
    "                \"ignore_above\": 256\n",
    "              }\n",
    "            }\n",
    "          },\n",
    "          \"section\": {\n",
    "            \"type\": \"text\"\n",
    "          },\n",
    "          \"seq\": {\n",
    "            \"type\": \"integer\"\n",
    "          },\n",
    "          \"chunk_num\": {\n",
    "            \"type\": \"integer\"\n",
    "          },\n",
    "          \"doc_name\": {\n",
    "            \"type\": \"text\"\n",
    "          }\n",
    "        }\n",
    "      },\n",
    "      \"text\": {\n",
    "        \"type\": \"text\",\n",
    "        \"fields\": {\n",
    "          \"keyword\": {\n",
    "            \"type\": \"keyword\",\n",
    "            \"ignore_above\": 8191\n",
    "          }\n",
    "        }\n",
    "      },\n",
    "      \"vector\": {\n",
    "      \"type\": \"dense_vector\",\n",
    "      \"dims\": 1024,\n",
    "      \"index\": 'true',\n",
    "      \"similarity\": \"cosine\"\n",
    "      }\n",
    "    }\n",
    "  }\n",
    "}"
   ]
  },
  {
   "cell_type": "code",
   "execution_count": 16,
   "id": "78f658f3-c1b5-46e1-952c-2706035e46ce",
   "metadata": {},
   "outputs": [],
   "source": [
    "# index name input\n",
    "index_id = 'skku_gpt_240227'"
   ]
  },
  {
   "cell_type": "code",
   "execution_count": 17,
   "id": "1b44f47d-a2fd-4597-b86d-0f1ed5e05f26",
   "metadata": {},
   "outputs": [
    {
     "name": "stdout",
     "output_type": "stream",
     "text": [
      "{'acknowledged': True, 'shards_acknowledged': True, 'index': 'skku_gpt_240227'}\n"
     ]
    }
   ],
   "source": [
    "response = es_connection.indices.create(index=index_id, body=index_body)\n",
    "print(response)"
   ]
  },
  {
   "cell_type": "code",
   "execution_count": 18,
   "id": "3d87b97a-af13-450c-9363-28f35a0b5684",
   "metadata": {},
   "outputs": [],
   "source": [
    "# model name input\n",
    "embd_model_id = \"intfloat/multilingual-e5-large\"\n",
    "embd_model = HuggingFaceEmbeddings(model_name=embd_model_id)"
   ]
  },
  {
   "cell_type": "code",
   "execution_count": 19,
   "id": "d35d5ae8-1246-4047-a35c-b9509dcdf600",
   "metadata": {},
   "outputs": [
    {
     "data": {
      "text/plain": [
       "ObjectApiResponse({'_shards': {'total': 1, 'successful': 1, 'failed': 0}})"
      ]
     },
     "execution_count": 19,
     "metadata": {},
     "output_type": "execute_result"
    }
   ],
   "source": [
    "index_id = 'skku_gpt_240227'\n",
    "\n",
    "db = ElasticsearchStore(\n",
    "    embedding=embd_model,            #embedding model\n",
    "    es_connection=es_connection,     #existing Elasticsearch instance\n",
    "    index_name=index_id,             #index(=table) name\n",
    ")\n",
    "\n",
    "db.client.indices.refresh(index=index_id)"
   ]
  },
  {
   "cell_type": "markdown",
   "id": "e3fbe243",
   "metadata": {},
   "source": [
    "# For text chunking"
   ]
  },
  {
   "cell_type": "code",
   "execution_count": 20,
   "id": "46b84416-3c7f-439e-b9af-b937949670f4",
   "metadata": {},
   "outputs": [],
   "source": [
    "def ko_text_chunk(body, chunk_size):\n",
    "    text_list = sent_tokenize(body)\n",
    "    chunks = []\n",
    "    current_chunk = []\n",
    "    current_length = 0\n",
    "\n",
    "    for text in text_list:        \n",
    "        if current_length + len(text) <= chunk_size:\n",
    "            current_chunk.append(text)\n",
    "            current_length += len(text)\n",
    "        else:\n",
    "            chunk = ' '.join(current_chunk)\n",
    "            chunks.append(chunk)\n",
    "            current_chunk = [text]\n",
    "            current_length = len(text)\n",
    "\n",
    "    if current_chunk:\n",
    "        chunk = ' '.join(current_chunk)\n",
    "        chunks.append(chunk)\n",
    "    \n",
    "    return chunks"
   ]
  },
  {
   "cell_type": "code",
   "execution_count": 21,
   "id": "ccda9d47-ea1a-4946-853b-888c4dcf6ad9",
   "metadata": {},
   "outputs": [],
   "source": [
    "def page_ko_to_docs( chunk_size, body, doc_id, doc_nm, section, header):    \n",
    "    # list to chunk\n",
    "    chunks = ko_text_chunk(body, chunk_size)\n",
    "    # chunks = ko_text_chunk_overlap(body, chunk_size, overlap_size)\n",
    "    # list(str) to list(document)\n",
    "    text_splitter = CharacterTextSplitter()\n",
    "    txt_docs = text_splitter.create_documents(chunks)\n",
    "    \n",
    "    chunk_num = 0\n",
    "    for doc in txt_docs:\n",
    "        chunk_num += 1\n",
    "        doc.page_content = header + \" \" + doc.page_content\n",
    "        doc.metadata = {\"doc_id\":doc_id, \"chunk_num\":chunk_num, \"doc_name\":doc_nm, \"section\": section}\n",
    "        \n",
    "    return txt_docs"
   ]
  },
  {
   "cell_type": "code",
   "execution_count": 22,
   "id": "17140574-5366-44b7-8bcd-48e83b3b600b",
   "metadata": {},
   "outputs": [
    {
     "data": {
      "text/html": [
       "<div>\n",
       "<style scoped>\n",
       "    .dataframe tbody tr th:only-of-type {\n",
       "        vertical-align: middle;\n",
       "    }\n",
       "\n",
       "    .dataframe tbody tr th {\n",
       "        vertical-align: top;\n",
       "    }\n",
       "\n",
       "    .dataframe thead th {\n",
       "        text-align: right;\n",
       "    }\n",
       "</style>\n",
       "<table border=\"1\" class=\"dataframe\">\n",
       "  <thead>\n",
       "    <tr style=\"text-align: right;\">\n",
       "      <th></th>\n",
       "      <th>DOC_ID</th>\n",
       "      <th>DOC_TITLE</th>\n",
       "      <th>Unnamed: 2</th>\n",
       "      <th>META</th>\n",
       "      <th>HEADER</th>\n",
       "      <th>TEXT</th>\n",
       "      <th>NEW_BODY</th>\n",
       "    </tr>\n",
       "  </thead>\n",
       "  <tbody>\n",
       "    <tr>\n",
       "      <th>0</th>\n",
       "      <td>1</td>\n",
       "      <td>교육과정_편성_및_운영지침(20230828)_데모_작업</td>\n",
       "      <td>NaN</td>\n",
       "      <td>제1조(목적)</td>\n",
       "      <td>제1조(목적)</td>\n",
       "      <td>이 지침은 학칙시행세칙 제3장에서 정한 교육과정 관련 규정에 대한 세부사항을 정함을...</td>\n",
       "      <td>이 지침은 학칙시행세칙 제3장에서 정한 교육과정 관련 규정에 대한 세부사항을 정함을...</td>\n",
       "    </tr>\n",
       "    <tr>\n",
       "      <th>1</th>\n",
       "      <td>1</td>\n",
       "      <td>교육과정_편성_및_운영지침(20230829)_데모_작업</td>\n",
       "      <td>NaN</td>\n",
       "      <td>제2조(편성원칙)</td>\n",
       "      <td>제2조(편성원칙)</td>\n",
       "      <td>①교육과정은 사회 변화와 학생 요구 등을 반영하고 본교 교육목표에 맞는 인재를 양성...</td>\n",
       "      <td>①교육과정은 사회 변화와 학생 요구 등을 반영하고 본교 교육목표에 맞는 인재를 양성...</td>\n",
       "    </tr>\n",
       "  </tbody>\n",
       "</table>\n",
       "</div>"
      ],
      "text/plain": [
       "   DOC_ID                       DOC_TITLE Unnamed: 2       META     HEADER  \\\n",
       "0       1  교육과정_편성_및_운영지침(20230828)_데모_작업        NaN    제1조(목적)    제1조(목적)   \n",
       "1       1  교육과정_편성_및_운영지침(20230829)_데모_작업        NaN  제2조(편성원칙)  제2조(편성원칙)   \n",
       "\n",
       "                                                TEXT  \\\n",
       "0  이 지침은 학칙시행세칙 제3장에서 정한 교육과정 관련 규정에 대한 세부사항을 정함을...   \n",
       "1  ①교육과정은 사회 변화와 학생 요구 등을 반영하고 본교 교육목표에 맞는 인재를 양성...   \n",
       "\n",
       "                                            NEW_BODY  \n",
       "0  이 지침은 학칙시행세칙 제3장에서 정한 교육과정 관련 규정에 대한 세부사항을 정함을...  \n",
       "1  ①교육과정은 사회 변화와 학생 요구 등을 반영하고 본교 교육목표에 맞는 인재를 양성...  "
      ]
     },
     "execution_count": 22,
     "metadata": {},
     "output_type": "execute_result"
    }
   ],
   "source": [
    "df.head(2)"
   ]
  },
  {
   "cell_type": "code",
   "execution_count": 23,
   "id": "77a74536-2194-433b-8e0c-08caf815fd0b",
   "metadata": {},
   "outputs": [],
   "source": [
    "# ko\n",
    "chunk_size = 5120\n",
    "page_ko_total_docs = []\n",
    "\n",
    "for row in df.iterrows():\n",
    "    # create metadata\n",
    "\n",
    "    doc_id = row[1]['DOC_ID']\n",
    "    doc_name = row[1]['DOC_TITLE'] if row[1]['DOC_TITLE'] is not None else ''\n",
    "    section = row[1]['META']\n",
    "    header = row[1]['HEADER']\n",
    "        # create content\n",
    "    text = row[1]['NEW_BODY'] if row[1]['NEW_BODY'] is not None else ''\n",
    "   \n",
    "    # create documents\n",
    "    docs = page_ko_to_docs(chunk_size, text, doc_id, doc_name, section, header)\n",
    "    \n",
    "    # docs to list\n",
    "    page_ko_total_docs.append(docs) "
   ]
  },
  {
   "cell_type": "code",
   "execution_count": 24,
   "id": "0f1675d6-13ed-48f7-9ddc-ee0f94374368",
   "metadata": {},
   "outputs": [
    {
     "data": {
      "text/plain": [
       "250"
      ]
     },
     "execution_count": 24,
     "metadata": {},
     "output_type": "execute_result"
    }
   ],
   "source": [
    "len(page_ko_total_docs)"
   ]
  },
  {
   "cell_type": "code",
   "execution_count": 25,
   "id": "af8cd3bf-4fa7-4e72-9c2d-0ed66b9069cf",
   "metadata": {},
   "outputs": [
    {
     "data": {
      "text/plain": [
       "[Document(page_content='제1조(목적) 이 지침은 학칙시행세칙 제3장에서 정한 교육과정 관련 규정에 대한 세부사항을 정함을 목적으로 한다.', metadata={'doc_id': 1, 'chunk_num': 1, 'doc_name': '교육과정_편성_및_운영지침(20230828)_데모_작업', 'section': '제1조(목적)'})]"
      ]
     },
     "execution_count": 25,
     "metadata": {},
     "output_type": "execute_result"
    }
   ],
   "source": [
    "page_ko_total_docs[0]"
   ]
  },
  {
   "cell_type": "code",
   "execution_count": 26,
   "id": "5a7ce569-7080-49da-b47d-95cb0568f8f9",
   "metadata": {},
   "outputs": [
    {
     "data": {
      "text/plain": [
       "[Document(page_content='제 1 장 총 칙 제3조(정의) ①“학사과정”이라 함은 학사학위를, “석사과정”이라 함은 석사학위를, “학석사통합과정”이라 함은 학사학위와 석사학위를, “박사과정”이라 함은 박사학위를, “석박사통합과정”이라 함은 학사에게 박사학위를 각각 수여하기 위한 과정을 말하며, “복합학위과정”이라 함은 의무전문석사학위(M.D. )와 의학학술박사학위(Ph.D.)를 동시에 수여하기 위한 과정을 말한다.', metadata={'doc_id': 2, 'chunk_num': 1, 'doc_name': '성균관대학교_학칙_본문', 'section': '제3조(정의)'})]"
      ]
     },
     "execution_count": 26,
     "metadata": {},
     "output_type": "execute_result"
    }
   ],
   "source": [
    "page_ko_total_docs[20]"
   ]
  },
  {
   "cell_type": "markdown",
   "id": "bc2c0c16",
   "metadata": {},
   "source": [
    "# Index to ES"
   ]
  },
  {
   "cell_type": "code",
   "execution_count": 27,
   "id": "5413d48a-34c9-4e58-99e2-3a65e4a55755",
   "metadata": {},
   "outputs": [
    {
     "name": "stdout",
     "output_type": "stream",
     "text": [
      "250\n"
     ]
    }
   ],
   "source": [
    "j = 0\n",
    "for i in range(len(page_ko_total_docs)):\n",
    "    db.add_documents(\n",
    "    page_ko_total_docs[i],\n",
    "    embedding=embd_model, \n",
    "    index_name=index_id,             #index(=table) name\n",
    "    vector_query_field=\"vector\" #mapping vector field name\n",
    ")\n",
    "    j = j + 1\n",
    "    \n",
    "print(j)"
   ]
  },
  {
   "cell_type": "markdown",
   "id": "0d43d3f4-a3cb-4028-b3b5-c10290e780c5",
   "metadata": {},
   "source": [
    "# Index 부칙"
   ]
  },
  {
   "cell_type": "code",
   "execution_count": 28,
   "id": "ace61162-4ab7-4536-bf6b-f4f58e9cc0c0",
   "metadata": {},
   "outputs": [],
   "source": [
    "df2 = pd.read_csv('부칙_UTF.csv', encoding='utf-8')"
   ]
  },
  {
   "cell_type": "code",
   "execution_count": 29,
   "id": "f78dc44d-d2f1-451a-9903-ff9f870fa11d",
   "metadata": {},
   "outputs": [
    {
     "name": "stdout",
     "output_type": "stream",
     "text": [
      "<class 'pandas.core.frame.DataFrame'>\n",
      "RangeIndex: 5 entries, 0 to 4\n",
      "Data columns (total 3 columns):\n",
      " #   Column     Non-Null Count  Dtype \n",
      "---  ------     --------------  ----- \n",
      " 0   DOC_ID     5 non-null      int64 \n",
      " 1   DOC_TITLE  5 non-null      object\n",
      " 2   BODY       5 non-null      object\n",
      "dtypes: int64(1), object(2)\n",
      "memory usage: 248.0+ bytes\n"
     ]
    }
   ],
   "source": [
    "df2.info()"
   ]
  },
  {
   "cell_type": "code",
   "execution_count": 30,
   "id": "162695f1-7f84-47ae-a3d5-8a82cdd58b78",
   "metadata": {},
   "outputs": [
    {
     "data": {
      "text/html": [
       "<div>\n",
       "<style scoped>\n",
       "    .dataframe tbody tr th:only-of-type {\n",
       "        vertical-align: middle;\n",
       "    }\n",
       "\n",
       "    .dataframe tbody tr th {\n",
       "        vertical-align: top;\n",
       "    }\n",
       "\n",
       "    .dataframe thead th {\n",
       "        text-align: right;\n",
       "    }\n",
       "</style>\n",
       "<table border=\"1\" class=\"dataframe\">\n",
       "  <thead>\n",
       "    <tr style=\"text-align: right;\">\n",
       "      <th></th>\n",
       "      <th>DOC_ID</th>\n",
       "      <th>DOC_TITLE</th>\n",
       "      <th>BODY</th>\n",
       "    </tr>\n",
       "  </thead>\n",
       "  <tbody>\n",
       "    <tr>\n",
       "      <th>0</th>\n",
       "      <td>1</td>\n",
       "      <td>교육과정 편성 및 운영지침</td>\n",
       "      <td>부칙\\r\\n이 지침은 2018년 3월 1일부터 시행한다.\\r\\n부칙\\r\\n이 지침은...</td>\n",
       "    </tr>\n",
       "    <tr>\n",
       "      <th>1</th>\n",
       "      <td>2</td>\n",
       "      <td>성균관대학교_학칙_본문</td>\n",
       "      <td>부칙 본 학칙은 1955년 4월 1일부터 시행한다. 부칙(1976년 3월 24일 개...</td>\n",
       "    </tr>\n",
       "    <tr>\n",
       "      <th>2</th>\n",
       "      <td>4</td>\n",
       "      <td>성균관대학교학칙시행세칙_본문</td>\n",
       "      <td>부칙 ①(시행일) 이 세칙은 2019년 8월 31일부터 시행한다. ②(다른 세칙의 ...</td>\n",
       "    </tr>\n",
       "    <tr>\n",
       "      <th>3</th>\n",
       "      <td>6</td>\n",
       "      <td>휴학복학처리에관한지침</td>\n",
       "      <td>부칙 이 개정 지침은 2018년 12월 1일부터 시행한다. 부칙 제1조(시행일) 이...</td>\n",
       "    </tr>\n",
       "    <tr>\n",
       "      <th>4</th>\n",
       "      <td>7</td>\n",
       "      <td>수업운영규정</td>\n",
       "      <td>부칙 ①(시행일) 이 규정은 2012년 3월 1일부터 시행한다. ②(다른 규정의 폐...</td>\n",
       "    </tr>\n",
       "  </tbody>\n",
       "</table>\n",
       "</div>"
      ],
      "text/plain": [
       "   DOC_ID        DOC_TITLE                                               BODY\n",
       "0       1   교육과정 편성 및 운영지침  부칙\\r\\n이 지침은 2018년 3월 1일부터 시행한다.\\r\\n부칙\\r\\n이 지침은...\n",
       "1       2     성균관대학교_학칙_본문  부칙 본 학칙은 1955년 4월 1일부터 시행한다. 부칙(1976년 3월 24일 개...\n",
       "2       4  성균관대학교학칙시행세칙_본문  부칙 ①(시행일) 이 세칙은 2019년 8월 31일부터 시행한다. ②(다른 세칙의 ...\n",
       "3       6      휴학복학처리에관한지침  부칙 이 개정 지침은 2018년 12월 1일부터 시행한다. 부칙 제1조(시행일) 이...\n",
       "4       7           수업운영규정  부칙 ①(시행일) 이 규정은 2012년 3월 1일부터 시행한다. ②(다른 규정의 폐..."
      ]
     },
     "execution_count": 30,
     "metadata": {},
     "output_type": "execute_result"
    }
   ],
   "source": [
    "df2.head()"
   ]
  },
  {
   "cell_type": "code",
   "execution_count": 31,
   "id": "765cf911-5197-45a1-93ee-2fd7e34745e6",
   "metadata": {},
   "outputs": [],
   "source": [
    "df2['NEW_BODY'] = None"
   ]
  },
  {
   "cell_type": "code",
   "execution_count": 32,
   "id": "a52aeae3-6a51-4610-86b4-ecf227f6021a",
   "metadata": {},
   "outputs": [],
   "source": [
    "for i in range(len(df2)):\n",
    "    body = df2['BODY'][i]\n",
    "\n",
    "    new_body = textReplace(body)\n",
    "    df2['NEW_BODY'][i] = new_body"
   ]
  },
  {
   "cell_type": "code",
   "execution_count": 33,
   "id": "7edd64d3-eb4f-41e9-8a99-c988c0739964",
   "metadata": {},
   "outputs": [
    {
     "data": {
      "text/html": [
       "<div>\n",
       "<style scoped>\n",
       "    .dataframe tbody tr th:only-of-type {\n",
       "        vertical-align: middle;\n",
       "    }\n",
       "\n",
       "    .dataframe tbody tr th {\n",
       "        vertical-align: top;\n",
       "    }\n",
       "\n",
       "    .dataframe thead th {\n",
       "        text-align: right;\n",
       "    }\n",
       "</style>\n",
       "<table border=\"1\" class=\"dataframe\">\n",
       "  <thead>\n",
       "    <tr style=\"text-align: right;\">\n",
       "      <th></th>\n",
       "      <th>DOC_ID</th>\n",
       "      <th>DOC_TITLE</th>\n",
       "      <th>BODY</th>\n",
       "      <th>NEW_BODY</th>\n",
       "    </tr>\n",
       "  </thead>\n",
       "  <tbody>\n",
       "    <tr>\n",
       "      <th>0</th>\n",
       "      <td>1</td>\n",
       "      <td>교육과정 편성 및 운영지침</td>\n",
       "      <td>부칙\\r\\n이 지침은 2018년 3월 1일부터 시행한다.\\r\\n부칙\\r\\n이 지침은...</td>\n",
       "      <td>부칙 이 지침은 2018년 3월 1일부터 시행한다. 부칙 이 지침은 2021년 2월...</td>\n",
       "    </tr>\n",
       "    <tr>\n",
       "      <th>1</th>\n",
       "      <td>2</td>\n",
       "      <td>성균관대학교_학칙_본문</td>\n",
       "      <td>부칙 본 학칙은 1955년 4월 1일부터 시행한다. 부칙(1976년 3월 24일 개...</td>\n",
       "      <td>부칙 본 학칙은 1955년 4월 1일부터 시행한다. 부칙(1976년 3월 24일 개...</td>\n",
       "    </tr>\n",
       "    <tr>\n",
       "      <th>2</th>\n",
       "      <td>4</td>\n",
       "      <td>성균관대학교학칙시행세칙_본문</td>\n",
       "      <td>부칙 ①(시행일) 이 세칙은 2019년 8월 31일부터 시행한다. ②(다른 세칙의 ...</td>\n",
       "      <td>부칙 ①(시행일) 이 세칙은 2019년 8월 31일부터 시행한다. ②(다른 세칙의 ...</td>\n",
       "    </tr>\n",
       "    <tr>\n",
       "      <th>3</th>\n",
       "      <td>6</td>\n",
       "      <td>휴학복학처리에관한지침</td>\n",
       "      <td>부칙 이 개정 지침은 2018년 12월 1일부터 시행한다. 부칙 제1조(시행일) 이...</td>\n",
       "      <td>부칙 이 개정 지침은 2018년 12월 1일부터 시행한다. 부칙 제1조(시행일) 이...</td>\n",
       "    </tr>\n",
       "    <tr>\n",
       "      <th>4</th>\n",
       "      <td>7</td>\n",
       "      <td>수업운영규정</td>\n",
       "      <td>부칙 ①(시행일) 이 규정은 2012년 3월 1일부터 시행한다. ②(다른 규정의 폐...</td>\n",
       "      <td>부칙 ①(시행일) 이 규정은 2012년 3월 1일부터 시행한다. ②(다른 규정의 폐...</td>\n",
       "    </tr>\n",
       "  </tbody>\n",
       "</table>\n",
       "</div>"
      ],
      "text/plain": [
       "   DOC_ID        DOC_TITLE                                               BODY  \\\n",
       "0       1   교육과정 편성 및 운영지침  부칙\\r\\n이 지침은 2018년 3월 1일부터 시행한다.\\r\\n부칙\\r\\n이 지침은...   \n",
       "1       2     성균관대학교_학칙_본문  부칙 본 학칙은 1955년 4월 1일부터 시행한다. 부칙(1976년 3월 24일 개...   \n",
       "2       4  성균관대학교학칙시행세칙_본문  부칙 ①(시행일) 이 세칙은 2019년 8월 31일부터 시행한다. ②(다른 세칙의 ...   \n",
       "3       6      휴학복학처리에관한지침  부칙 이 개정 지침은 2018년 12월 1일부터 시행한다. 부칙 제1조(시행일) 이...   \n",
       "4       7           수업운영규정  부칙 ①(시행일) 이 규정은 2012년 3월 1일부터 시행한다. ②(다른 규정의 폐...   \n",
       "\n",
       "                                            NEW_BODY  \n",
       "0  부칙 이 지침은 2018년 3월 1일부터 시행한다. 부칙 이 지침은 2021년 2월...  \n",
       "1  부칙 본 학칙은 1955년 4월 1일부터 시행한다. 부칙(1976년 3월 24일 개...  \n",
       "2  부칙 ①(시행일) 이 세칙은 2019년 8월 31일부터 시행한다. ②(다른 세칙의 ...  \n",
       "3  부칙 이 개정 지침은 2018년 12월 1일부터 시행한다. 부칙 제1조(시행일) 이...  \n",
       "4  부칙 ①(시행일) 이 규정은 2012년 3월 1일부터 시행한다. ②(다른 규정의 폐...  "
      ]
     },
     "execution_count": 33,
     "metadata": {},
     "output_type": "execute_result"
    }
   ],
   "source": [
    "df2.head()"
   ]
  },
  {
   "cell_type": "code",
   "execution_count": 34,
   "id": "29914a03-05e6-41cc-963c-e1a0ddc018e8",
   "metadata": {},
   "outputs": [],
   "source": [
    "df2['LEN'] = None"
   ]
  },
  {
   "cell_type": "code",
   "execution_count": 35,
   "id": "9e090a2c-097a-46a2-bb5f-18648f753fb0",
   "metadata": {},
   "outputs": [],
   "source": [
    "for i in range(len(df2)):\n",
    "    text = df2['NEW_BODY'][i]\n",
    "    df2['LEN'][i] = len(text)"
   ]
  },
  {
   "cell_type": "code",
   "execution_count": 36,
   "id": "f5731dc8-e6da-4ebc-ba67-cdb58fae9fbc",
   "metadata": {},
   "outputs": [
    {
     "data": {
      "text/html": [
       "<div>\n",
       "<style scoped>\n",
       "    .dataframe tbody tr th:only-of-type {\n",
       "        vertical-align: middle;\n",
       "    }\n",
       "\n",
       "    .dataframe tbody tr th {\n",
       "        vertical-align: top;\n",
       "    }\n",
       "\n",
       "    .dataframe thead th {\n",
       "        text-align: right;\n",
       "    }\n",
       "</style>\n",
       "<table border=\"1\" class=\"dataframe\">\n",
       "  <thead>\n",
       "    <tr style=\"text-align: right;\">\n",
       "      <th></th>\n",
       "      <th>DOC_ID</th>\n",
       "      <th>DOC_TITLE</th>\n",
       "      <th>BODY</th>\n",
       "      <th>NEW_BODY</th>\n",
       "      <th>LEN</th>\n",
       "    </tr>\n",
       "  </thead>\n",
       "  <tbody>\n",
       "    <tr>\n",
       "      <th>0</th>\n",
       "      <td>1</td>\n",
       "      <td>교육과정 편성 및 운영지침</td>\n",
       "      <td>부칙\\r\\n이 지침은 2018년 3월 1일부터 시행한다.\\r\\n부칙\\r\\n이 지침은...</td>\n",
       "      <td>부칙 이 지침은 2018년 3월 1일부터 시행한다. 부칙 이 지침은 2021년 2월...</td>\n",
       "      <td>118</td>\n",
       "    </tr>\n",
       "    <tr>\n",
       "      <th>1</th>\n",
       "      <td>2</td>\n",
       "      <td>성균관대학교_학칙_본문</td>\n",
       "      <td>부칙 본 학칙은 1955년 4월 1일부터 시행한다. 부칙(1976년 3월 24일 개...</td>\n",
       "      <td>부칙 본 학칙은 1955년 4월 1일부터 시행한다. 부칙(1976년 3월 24일 개...</td>\n",
       "      <td>30779</td>\n",
       "    </tr>\n",
       "    <tr>\n",
       "      <th>2</th>\n",
       "      <td>4</td>\n",
       "      <td>성균관대학교학칙시행세칙_본문</td>\n",
       "      <td>부칙 ①(시행일) 이 세칙은 2019년 8월 31일부터 시행한다. ②(다른 세칙의 ...</td>\n",
       "      <td>부칙 ①(시행일) 이 세칙은 2019년 8월 31일부터 시행한다. ②(다른 세칙의 ...</td>\n",
       "      <td>2127</td>\n",
       "    </tr>\n",
       "    <tr>\n",
       "      <th>3</th>\n",
       "      <td>6</td>\n",
       "      <td>휴학복학처리에관한지침</td>\n",
       "      <td>부칙 이 개정 지침은 2018년 12월 1일부터 시행한다. 부칙 제1조(시행일) 이...</td>\n",
       "      <td>부칙 이 개정 지침은 2018년 12월 1일부터 시행한다. 부칙 제1조(시행일) 이...</td>\n",
       "      <td>258</td>\n",
       "    </tr>\n",
       "    <tr>\n",
       "      <th>4</th>\n",
       "      <td>7</td>\n",
       "      <td>수업운영규정</td>\n",
       "      <td>부칙 ①(시행일) 이 규정은 2012년 3월 1일부터 시행한다. ②(다른 규정의 폐...</td>\n",
       "      <td>부칙 ①(시행일) 이 규정은 2012년 3월 1일부터 시행한다. ②(다른 규정의 폐...</td>\n",
       "      <td>615</td>\n",
       "    </tr>\n",
       "  </tbody>\n",
       "</table>\n",
       "</div>"
      ],
      "text/plain": [
       "   DOC_ID        DOC_TITLE                                               BODY  \\\n",
       "0       1   교육과정 편성 및 운영지침  부칙\\r\\n이 지침은 2018년 3월 1일부터 시행한다.\\r\\n부칙\\r\\n이 지침은...   \n",
       "1       2     성균관대학교_학칙_본문  부칙 본 학칙은 1955년 4월 1일부터 시행한다. 부칙(1976년 3월 24일 개...   \n",
       "2       4  성균관대학교학칙시행세칙_본문  부칙 ①(시행일) 이 세칙은 2019년 8월 31일부터 시행한다. ②(다른 세칙의 ...   \n",
       "3       6      휴학복학처리에관한지침  부칙 이 개정 지침은 2018년 12월 1일부터 시행한다. 부칙 제1조(시행일) 이...   \n",
       "4       7           수업운영규정  부칙 ①(시행일) 이 규정은 2012년 3월 1일부터 시행한다. ②(다른 규정의 폐...   \n",
       "\n",
       "                                            NEW_BODY    LEN  \n",
       "0  부칙 이 지침은 2018년 3월 1일부터 시행한다. 부칙 이 지침은 2021년 2월...    118  \n",
       "1  부칙 본 학칙은 1955년 4월 1일부터 시행한다. 부칙(1976년 3월 24일 개...  30779  \n",
       "2  부칙 ①(시행일) 이 세칙은 2019년 8월 31일부터 시행한다. ②(다른 세칙의 ...   2127  \n",
       "3  부칙 이 개정 지침은 2018년 12월 1일부터 시행한다. 부칙 제1조(시행일) 이...    258  \n",
       "4  부칙 ①(시행일) 이 규정은 2012년 3월 1일부터 시행한다. ②(다른 규정의 폐...    615  "
      ]
     },
     "execution_count": 36,
     "metadata": {},
     "output_type": "execute_result"
    }
   ],
   "source": [
    "df2.head()"
   ]
  },
  {
   "cell_type": "code",
   "execution_count": 37,
   "id": "3e31e115-4adb-450b-9703-32467ca77fe3",
   "metadata": {},
   "outputs": [
    {
     "data": {
      "text/plain": [
       "'부칙 이 지침은 2018년 3월 1일부터 시행한다. 부칙 이 지침은 2021년 2월 22일부터 시행한다. 부칙 이 지침은 2022년 2월 21일부터 시행한다. 부칙 이 지침은 2023년 8월 28일부터 시행한다.'"
      ]
     },
     "execution_count": 37,
     "metadata": {},
     "output_type": "execute_result"
    }
   ],
   "source": [
    "df2['NEW_BODY'][0]"
   ]
  },
  {
   "cell_type": "code",
   "execution_count": 38,
   "id": "d6c68376-eb7b-44a8-a05d-a520c54fb880",
   "metadata": {},
   "outputs": [
    {
     "data": {
      "text/plain": [
       "['',\n",
       " ' 이 지침은 2018년 3월 1일부터 시행한다. ',\n",
       " ' 이 지침은 2021년 2월 22일부터 시행한다. ',\n",
       " ' 이 지침은 2022년 2월 21일부터 시행한다. ',\n",
       " ' 이 지침은 2023년 8월 28일부터 시행한다.']"
      ]
     },
     "execution_count": 38,
     "metadata": {},
     "output_type": "execute_result"
    }
   ],
   "source": [
    "df2['NEW_BODY'][0].split('부칙')"
   ]
  },
  {
   "cell_type": "code",
   "execution_count": 39,
   "id": "fac84464-fe2b-45bb-84eb-9f81d5e89857",
   "metadata": {},
   "outputs": [
    {
     "data": {
      "text/plain": [
       "''"
      ]
     },
     "execution_count": 39,
     "metadata": {},
     "output_type": "execute_result"
    }
   ],
   "source": [
    "bu = df2['NEW_BODY'][0].split('부칙')\n",
    "\n",
    "bu.pop(0)"
   ]
  },
  {
   "cell_type": "code",
   "execution_count": 40,
   "id": "50e231ec-a42e-4568-95d4-6e230772a551",
   "metadata": {},
   "outputs": [
    {
     "data": {
      "text/plain": [
       "[' 이 지침은 2018년 3월 1일부터 시행한다. ',\n",
       " ' 이 지침은 2021년 2월 22일부터 시행한다. ',\n",
       " ' 이 지침은 2022년 2월 21일부터 시행한다. ',\n",
       " ' 이 지침은 2023년 8월 28일부터 시행한다.']"
      ]
     },
     "execution_count": 40,
     "metadata": {},
     "output_type": "execute_result"
    }
   ],
   "source": [
    "bu"
   ]
  },
  {
   "cell_type": "code",
   "execution_count": 41,
   "id": "ad8f749b-cd2c-47ae-93fd-bb9f00f9b39d",
   "metadata": {},
   "outputs": [],
   "source": [
    "def page_ko_to_docs(body, doc_id, doc_nm, section):    \n",
    "    # list to chunk\n",
    "    # chunks = ko_text_chunk(body, chunk_size)\n",
    "    # chunks = ko_text_chunk_overlap(body, chunk_size, overlap_size)\n",
    "    # list(str) to list(document)\n",
    "    text_splitter = CharacterTextSplitter()\n",
    "    txt_docs = text_splitter.create_documents([body])\n",
    "    \n",
    "    chunk_num = 0\n",
    "    for doc in txt_docs:\n",
    "        chunk_num += 1\n",
    "        doc.page_content = doc.page_content\n",
    "        doc.metadata = {\"doc_id\":doc_id, \"chunk_num\":chunk_num, \"doc_name\":doc_nm, \"section\": section}\n",
    "        \n",
    "    return txt_docs"
   ]
  },
  {
   "cell_type": "code",
   "execution_count": 50,
   "id": "3ae21f8c-5d05-4c36-a165-130eeda61001",
   "metadata": {},
   "outputs": [],
   "source": [
    "y= 0\n",
    "bu = df2['NEW_BODY'][y].split('부칙')\n",
    "bu.pop(0)\n",
    "\n",
    "# ko\n",
    "chunk_size = 10000\n",
    "page_ko_total_docs = []\n",
    "\n",
    "for i in range(len(bu)):\n",
    "    # create metadata\n",
    "\n",
    "    doc_id = df2['DOC_ID'][y]\n",
    "    doc_name = df2['DOC_TITLE'][y]\n",
    "    section = '부칙'\n",
    "        # create content\n",
    "    text = '부칙' + bu[i]\n",
    "   \n",
    "    # create documents\n",
    "    docs = page_ko_to_docs(text, doc_id, doc_name, section)\n",
    "    \n",
    "    # docs to list\n",
    "    page_ko_total_docs.append(docs) "
   ]
  },
  {
   "cell_type": "code",
   "execution_count": 51,
   "id": "6acd3cdb-e52b-4305-9dc3-fab377887cb1",
   "metadata": {},
   "outputs": [
    {
     "data": {
      "text/plain": [
       "4"
      ]
     },
     "execution_count": 51,
     "metadata": {},
     "output_type": "execute_result"
    }
   ],
   "source": [
    "len(page_ko_total_docs)"
   ]
  },
  {
   "cell_type": "code",
   "execution_count": 52,
   "id": "fc39a1bc-6c5c-40b8-86e3-2b915b7dec3c",
   "metadata": {},
   "outputs": [
    {
     "data": {
      "text/plain": [
       "[Document(page_content='부칙 이 지침은 2018년 3월 1일부터 시행한다.', metadata={'doc_id': 1, 'chunk_num': 1, 'doc_name': '교육과정 편성 및 운영지침', 'section': '부칙'})]"
      ]
     },
     "execution_count": 52,
     "metadata": {},
     "output_type": "execute_result"
    }
   ],
   "source": [
    "page_ko_total_docs[0]"
   ]
  },
  {
   "cell_type": "code",
   "execution_count": 53,
   "id": "9107e433-8bf9-4094-bbdc-4aa8e3812e0d",
   "metadata": {},
   "outputs": [
    {
     "data": {
      "text/plain": [
       "[Document(page_content='부칙 이 지침은 2023년 8월 28일부터 시행한다.', metadata={'doc_id': 1, 'chunk_num': 1, 'doc_name': '교육과정 편성 및 운영지침', 'section': '부칙'})]"
      ]
     },
     "execution_count": 53,
     "metadata": {},
     "output_type": "execute_result"
    }
   ],
   "source": [
    "page_ko_total_docs[3]"
   ]
  },
  {
   "cell_type": "code",
   "execution_count": 54,
   "id": "6f0f82c8-09d3-4da8-92bb-6c7f78e06623",
   "metadata": {},
   "outputs": [
    {
     "name": "stdout",
     "output_type": "stream",
     "text": [
      "4\n"
     ]
    }
   ],
   "source": [
    "j = 0\n",
    "for i in range(len(page_ko_total_docs)):\n",
    "    db.add_documents(\n",
    "    page_ko_total_docs[i],\n",
    "    embedding=embd_model, \n",
    "    index_name=index_id,             #index(=table) name\n",
    "    vector_query_field=\"vector\" #mapping vector field name\n",
    ")\n",
    "    j = j + 1\n",
    "    \n",
    "print(j)"
   ]
  },
  {
   "cell_type": "code",
   "execution_count": 55,
   "id": "40799ebb-aa57-42fe-a357-b91f57f8ad82",
   "metadata": {},
   "outputs": [],
   "source": [
    "y= 1\n",
    "bu = df2['NEW_BODY'][y].split('부칙')\n",
    "\n",
    "bu.pop(0)\n",
    "\n",
    "# ko\n",
    "chunk_size = 10000\n",
    "page_ko_total_docs = []\n",
    "\n",
    "for i in range(len(bu)):\n",
    "    # create metadata\n",
    "\n",
    "    doc_id = df2['DOC_ID'][y]\n",
    "    doc_name = df2['DOC_TITLE'][y]\n",
    "    section = '부칙'\n",
    "        # create content\n",
    "    text = '부칙' + bu[i]\n",
    "   \n",
    "    # create documents\n",
    "    docs = page_ko_to_docs(text, doc_id, doc_name, section)\n",
    "    \n",
    "    # docs to list\n",
    "    page_ko_total_docs.append(docs) "
   ]
  },
  {
   "cell_type": "code",
   "execution_count": 56,
   "id": "9d4603f9-c782-4d58-83e6-e364ae07fdc9",
   "metadata": {},
   "outputs": [
    {
     "data": {
      "text/plain": [
       "128"
      ]
     },
     "execution_count": 56,
     "metadata": {},
     "output_type": "execute_result"
    }
   ],
   "source": [
    "len(page_ko_total_docs)"
   ]
  },
  {
   "cell_type": "code",
   "execution_count": 57,
   "id": "fdc36472-4fe3-4d44-94f2-fa73e1e90b28",
   "metadata": {},
   "outputs": [
    {
     "data": {
      "text/plain": [
       "[Document(page_content='부칙 본 학칙은 1955년 4월 1일부터 시행한다.', metadata={'doc_id': 2, 'chunk_num': 1, 'doc_name': '성균관대학교_학칙_본문', 'section': '부칙'})]"
      ]
     },
     "execution_count": 57,
     "metadata": {},
     "output_type": "execute_result"
    }
   ],
   "source": [
    "page_ko_total_docs[0]"
   ]
  },
  {
   "cell_type": "code",
   "execution_count": 58,
   "id": "00d89faf-b628-49af-81a7-2b2ee881cb77",
   "metadata": {},
   "outputs": [
    {
     "data": {
      "text/plain": [
       "[Document(page_content='부칙(1981년 6월 10일 개정) ①본 개정학칙은 1981년 6월 10일부터 시행한다. ②본 개정학칙은 1981년 제1학년 입학생부터 적용한다. ③본 개정학칙 시행당시의 제2부 재학생(2학년이상)은 주간부 교과과정을 준용하며 졸업학점은 학칙시행세칙(Ⅱ)의 제3조 규정에 의한다. ④1981학년도 본 개정학칙 시행당시의 농과대학 원예조경학과의 재학생(2학년이상)은 조경학과에 전과한 것으로 본다.', metadata={'doc_id': 2, 'chunk_num': 1, 'doc_name': '성균관대학교_학칙_본문', 'section': '부칙'})]"
      ]
     },
     "execution_count": 58,
     "metadata": {},
     "output_type": "execute_result"
    }
   ],
   "source": [
    "page_ko_total_docs[10]"
   ]
  },
  {
   "cell_type": "code",
   "execution_count": 59,
   "id": "9560a34a-ed24-4bab-8765-b32e4f72972d",
   "metadata": {},
   "outputs": [
    {
     "name": "stdout",
     "output_type": "stream",
     "text": [
      "128\n"
     ]
    }
   ],
   "source": [
    "j = 0\n",
    "for i in range(len(page_ko_total_docs)):\n",
    "    db.add_documents(\n",
    "    page_ko_total_docs[i],\n",
    "    embedding=embd_model, \n",
    "    index_name=index_id,             #index(=table) name\n",
    "    vector_query_field=\"vector\" #mapping vector field name\n",
    ")\n",
    "    j = j + 1\n",
    "    \n",
    "print(j)"
   ]
  },
  {
   "cell_type": "code",
   "execution_count": 60,
   "id": "f5d5363b-ee6c-4d63-b6b9-7ab60fb3eabf",
   "metadata": {},
   "outputs": [],
   "source": [
    "y= 2\n",
    "bu = df2['NEW_BODY'][y].split('부칙')\n",
    "\n",
    "bu.pop(0)\n",
    "\n",
    "# ko\n",
    "chunk_size = 10000\n",
    "page_ko_total_docs = []\n",
    "\n",
    "for i in range(len(bu)):\n",
    "    # create metadata\n",
    "\n",
    "    doc_id = df2['DOC_ID'][y]\n",
    "    doc_name = df2['DOC_TITLE'][y]\n",
    "    section = '부칙'\n",
    "        # create content\n",
    "    text = '부칙' + bu[i]\n",
    "   \n",
    "    # create documents\n",
    "    docs = page_ko_to_docs(text, doc_id, doc_name, section)\n",
    "    \n",
    "    # docs to list\n",
    "    page_ko_total_docs.append(docs) "
   ]
  },
  {
   "cell_type": "code",
   "execution_count": 61,
   "id": "73e8bbef-bd89-44ed-b4a4-3cbb1236f514",
   "metadata": {},
   "outputs": [
    {
     "name": "stdout",
     "output_type": "stream",
     "text": [
      "20\n"
     ]
    }
   ],
   "source": [
    "j = 0\n",
    "for i in range(len(page_ko_total_docs)):\n",
    "    db.add_documents(\n",
    "    page_ko_total_docs[i],\n",
    "    embedding=embd_model, \n",
    "    index_name=index_id,             #index(=table) name\n",
    "    vector_query_field=\"vector\" #mapping vector field name\n",
    ")\n",
    "    j = j + 1\n",
    "    \n",
    "print(j)"
   ]
  },
  {
   "cell_type": "code",
   "execution_count": 62,
   "id": "5d7b282f-4e5d-41e9-8324-c7a77ccaafeb",
   "metadata": {},
   "outputs": [],
   "source": [
    "y= 3\n",
    "bu = df2['NEW_BODY'][y].split('부칙')\n",
    "\n",
    "bu.pop(0)\n",
    "\n",
    "# ko\n",
    "chunk_size = 10000\n",
    "page_ko_total_docs = []\n",
    "\n",
    "for i in range(len(bu)):\n",
    "    # create metadata\n",
    "\n",
    "    doc_id = df2['DOC_ID'][y]\n",
    "    doc_name = df2['DOC_TITLE'][y]\n",
    "    section = '부칙'\n",
    "        # create content\n",
    "    text = '부칙' + bu[i]\n",
    "   \n",
    "    # create documents\n",
    "    docs = page_ko_to_docs(text, doc_id, doc_name, section)\n",
    "    \n",
    "    # docs to list\n",
    "    page_ko_total_docs.append(docs) "
   ]
  },
  {
   "cell_type": "code",
   "execution_count": 63,
   "id": "093b67e3-772f-4187-8235-6495e3f369a4",
   "metadata": {},
   "outputs": [
    {
     "name": "stdout",
     "output_type": "stream",
     "text": [
      "3\n"
     ]
    }
   ],
   "source": [
    "j = 0\n",
    "for i in range(len(page_ko_total_docs)):\n",
    "    db.add_documents(\n",
    "    page_ko_total_docs[i],\n",
    "    embedding=embd_model, \n",
    "    index_name=index_id,             #index(=table) name\n",
    "    vector_query_field=\"vector\" #mapping vector field name\n",
    ")\n",
    "    j = j + 1\n",
    "    \n",
    "print(j)"
   ]
  },
  {
   "cell_type": "code",
   "execution_count": 64,
   "id": "10462afc-9fe0-4884-a59a-8e75645fff4c",
   "metadata": {},
   "outputs": [],
   "source": [
    "y= 4\n",
    "bu = df2['NEW_BODY'][y].split('부칙')\n",
    "\n",
    "bu.pop(0)\n",
    "\n",
    "# ko\n",
    "chunk_size = 10000\n",
    "page_ko_total_docs = []\n",
    "\n",
    "for i in range(len(bu)):\n",
    "    # create metadata\n",
    "\n",
    "    doc_id = df2['DOC_ID'][y]\n",
    "    doc_name = df2['DOC_TITLE'][y]\n",
    "    section = '부칙'\n",
    "        # create content\n",
    "    text = '부칙' + bu[i]\n",
    "   \n",
    "    # create documents\n",
    "    docs = page_ko_to_docs(text, doc_id, doc_name, section)\n",
    "    \n",
    "    # docs to list\n",
    "    page_ko_total_docs.append(docs) "
   ]
  },
  {
   "cell_type": "code",
   "execution_count": 65,
   "id": "3aa2bddc-e61f-43e7-9426-586c4753a48e",
   "metadata": {},
   "outputs": [
    {
     "name": "stdout",
     "output_type": "stream",
     "text": [
      "14\n"
     ]
    }
   ],
   "source": [
    "j = 0\n",
    "for i in range(len(page_ko_total_docs)):\n",
    "    db.add_documents(\n",
    "    page_ko_total_docs[i],\n",
    "    embedding=embd_model, \n",
    "    index_name=index_id,             #index(=table) name\n",
    "    vector_query_field=\"vector\" #mapping vector field name\n",
    ")\n",
    "    j = j + 1\n",
    "    \n",
    "print(j)"
   ]
  },
  {
   "cell_type": "markdown",
   "id": "04347300-3215-42a4-9965-0cd87964c617",
   "metadata": {},
   "source": [
    "# change 부칙 for hybrid index"
   ]
  },
  {
   "cell_type": "code",
   "execution_count": 66,
   "id": "915ed3d0-4004-4e30-ab7b-3991240265f6",
   "metadata": {},
   "outputs": [
    {
     "data": {
      "text/plain": [
       "ObjectApiResponse({'_shards': {'total': 1, 'successful': 1, 'failed': 0}})"
      ]
     },
     "execution_count": 66,
     "metadata": {},
     "output_type": "execute_result"
    }
   ],
   "source": [
    "index_id = 'skku_hybrid_240226'\n",
    "\n",
    "db = ElasticsearchStore(\n",
    "    embedding=embd_model,            #embedding model\n",
    "    es_connection=es_connection,     #existing Elasticsearch instance\n",
    "    index_name=index_id,             #index(=table) name\n",
    ")\n",
    "\n",
    "db.client.indices.refresh(index=index_id)"
   ]
  },
  {
   "cell_type": "code",
   "execution_count": 67,
   "id": "8dc81f33-54cb-4c39-a6cf-c7e5c5f96b2c",
   "metadata": {},
   "outputs": [
    {
     "data": {
      "text/html": [
       "<div>\n",
       "<style scoped>\n",
       "    .dataframe tbody tr th:only-of-type {\n",
       "        vertical-align: middle;\n",
       "    }\n",
       "\n",
       "    .dataframe tbody tr th {\n",
       "        vertical-align: top;\n",
       "    }\n",
       "\n",
       "    .dataframe thead th {\n",
       "        text-align: right;\n",
       "    }\n",
       "</style>\n",
       "<table border=\"1\" class=\"dataframe\">\n",
       "  <thead>\n",
       "    <tr style=\"text-align: right;\">\n",
       "      <th></th>\n",
       "      <th>DOC_ID</th>\n",
       "      <th>DOC_TITLE</th>\n",
       "      <th>BODY</th>\n",
       "      <th>NEW_BODY</th>\n",
       "      <th>LEN</th>\n",
       "    </tr>\n",
       "  </thead>\n",
       "  <tbody>\n",
       "    <tr>\n",
       "      <th>0</th>\n",
       "      <td>1</td>\n",
       "      <td>교육과정 편성 및 운영지침</td>\n",
       "      <td>부칙\\r\\n이 지침은 2018년 3월 1일부터 시행한다.\\r\\n부칙\\r\\n이 지침은...</td>\n",
       "      <td>부칙 이 지침은 2018년 3월 1일부터 시행한다. 부칙 이 지침은 2021년 2월...</td>\n",
       "      <td>118</td>\n",
       "    </tr>\n",
       "    <tr>\n",
       "      <th>1</th>\n",
       "      <td>2</td>\n",
       "      <td>성균관대학교_학칙_본문</td>\n",
       "      <td>부칙 본 학칙은 1955년 4월 1일부터 시행한다. 부칙(1976년 3월 24일 개...</td>\n",
       "      <td>부칙 본 학칙은 1955년 4월 1일부터 시행한다. 부칙(1976년 3월 24일 개...</td>\n",
       "      <td>30779</td>\n",
       "    </tr>\n",
       "    <tr>\n",
       "      <th>2</th>\n",
       "      <td>4</td>\n",
       "      <td>성균관대학교학칙시행세칙_본문</td>\n",
       "      <td>부칙 ①(시행일) 이 세칙은 2019년 8월 31일부터 시행한다. ②(다른 세칙의 ...</td>\n",
       "      <td>부칙 ①(시행일) 이 세칙은 2019년 8월 31일부터 시행한다. ②(다른 세칙의 ...</td>\n",
       "      <td>2127</td>\n",
       "    </tr>\n",
       "    <tr>\n",
       "      <th>3</th>\n",
       "      <td>6</td>\n",
       "      <td>휴학복학처리에관한지침</td>\n",
       "      <td>부칙 이 개정 지침은 2018년 12월 1일부터 시행한다. 부칙 제1조(시행일) 이...</td>\n",
       "      <td>부칙 이 개정 지침은 2018년 12월 1일부터 시행한다. 부칙 제1조(시행일) 이...</td>\n",
       "      <td>258</td>\n",
       "    </tr>\n",
       "    <tr>\n",
       "      <th>4</th>\n",
       "      <td>7</td>\n",
       "      <td>수업운영규정</td>\n",
       "      <td>부칙 ①(시행일) 이 규정은 2012년 3월 1일부터 시행한다. ②(다른 규정의 폐...</td>\n",
       "      <td>부칙 ①(시행일) 이 규정은 2012년 3월 1일부터 시행한다. ②(다른 규정의 폐...</td>\n",
       "      <td>615</td>\n",
       "    </tr>\n",
       "  </tbody>\n",
       "</table>\n",
       "</div>"
      ],
      "text/plain": [
       "   DOC_ID        DOC_TITLE                                               BODY  \\\n",
       "0       1   교육과정 편성 및 운영지침  부칙\\r\\n이 지침은 2018년 3월 1일부터 시행한다.\\r\\n부칙\\r\\n이 지침은...   \n",
       "1       2     성균관대학교_학칙_본문  부칙 본 학칙은 1955년 4월 1일부터 시행한다. 부칙(1976년 3월 24일 개...   \n",
       "2       4  성균관대학교학칙시행세칙_본문  부칙 ①(시행일) 이 세칙은 2019년 8월 31일부터 시행한다. ②(다른 세칙의 ...   \n",
       "3       6      휴학복학처리에관한지침  부칙 이 개정 지침은 2018년 12월 1일부터 시행한다. 부칙 제1조(시행일) 이...   \n",
       "4       7           수업운영규정  부칙 ①(시행일) 이 규정은 2012년 3월 1일부터 시행한다. ②(다른 규정의 폐...   \n",
       "\n",
       "                                            NEW_BODY    LEN  \n",
       "0  부칙 이 지침은 2018년 3월 1일부터 시행한다. 부칙 이 지침은 2021년 2월...    118  \n",
       "1  부칙 본 학칙은 1955년 4월 1일부터 시행한다. 부칙(1976년 3월 24일 개...  30779  \n",
       "2  부칙 ①(시행일) 이 세칙은 2019년 8월 31일부터 시행한다. ②(다른 세칙의 ...   2127  \n",
       "3  부칙 이 개정 지침은 2018년 12월 1일부터 시행한다. 부칙 제1조(시행일) 이...    258  \n",
       "4  부칙 ①(시행일) 이 규정은 2012년 3월 1일부터 시행한다. ②(다른 규정의 폐...    615  "
      ]
     },
     "execution_count": 67,
     "metadata": {},
     "output_type": "execute_result"
    }
   ],
   "source": [
    "df2"
   ]
  },
  {
   "cell_type": "code",
   "execution_count": 68,
   "id": "4ddcad47-1317-4014-bbf6-53bf1a184d7c",
   "metadata": {},
   "outputs": [
    {
     "data": {
      "text/plain": [
       "'부칙 ①(시행일) 이 규정은 2012년 3월 1일부터 시행한다. ②(다른 규정의 폐지) 이 규정 시행과 동시에 「수업운영에 관한 내규」는 폐지한다. 부칙 ①(시행일) 이 규정은 2012년 10월 1일부터 시행하며 2013학년도 이후 수업편성 및 운영에 적용한다. ②(경과조치) 2012학년도 수업 편성 및 운영은 종전 규정을 적용한다. 부칙 ①(시행일) 이 규정은 2013년 11월 1일부터 시행하며 2014학년도 이후 수업편성 및 운영에 적용한다. ②(경과조치) 2013학년도 수업 편성 및 운영은 종전 규정을 적용한다. 부칙 이 규정은 2015년 3월 1일부터 시행한다. 부칙 이 규정은 2016년 1월 1일부터 시행한다. 부칙 이 규정은 2016년 3월 1일부터 시행한다. 부칙 이 규정은 2016년 11월 1일부터 적용한다. 부칙 이 규정은 2018년 3월 1일부터 적용한다. 부칙 이 규정은 2018년 7월 1일부터 적용한다. 부칙 이 규정은 2019년 3월 1일부터 적용한다. 부칙 이 규정은 2020년 3월 1일부터 적용한다. 부칙 이 규정은 2021년 2월 22일부터 시행한다. 부칙 이 규정은 2021년 2월 22일부터 시행한다. 부칙 이 규정은 2023년 2월 27일부터 시행한다.'"
      ]
     },
     "execution_count": 68,
     "metadata": {},
     "output_type": "execute_result"
    }
   ],
   "source": [
    "df2['NEW_BODY'][4]"
   ]
  },
  {
   "cell_type": "code",
   "execution_count": 69,
   "id": "4ab2a91a-8e2b-4c1b-b982-547ac5f50466",
   "metadata": {},
   "outputs": [],
   "source": [
    "# ko\n",
    "chunk_size = 512\n",
    "page_ko_total_docs = []\n",
    "\n",
    "for y in range(len(df2)):\n",
    "    bu = df2['NEW_BODY'][y].split('부칙')\n",
    "    bu.pop(0)\n",
    "\n",
    "    \n",
    "    for i in range(len(bu)):\n",
    "    # create metadata\n",
    "        doc_id = df2['DOC_ID'][y]\n",
    "        doc_name = df2['DOC_TITLE'][y]\n",
    "        section = '부칙'\n",
    "            # create content\n",
    "        text = '부칙' + bu[i]\n",
    "       \n",
    "        # create documents\n",
    "        docs = page_ko_to_docs(text, doc_id, doc_name, section)\n",
    "        \n",
    "        # docs to list\n",
    "        page_ko_total_docs.append(docs) "
   ]
  },
  {
   "cell_type": "code",
   "execution_count": 70,
   "id": "0def5895-46fa-466f-9386-1ee4b3de47ef",
   "metadata": {},
   "outputs": [
    {
     "data": {
      "text/plain": [
       "169"
      ]
     },
     "execution_count": 70,
     "metadata": {},
     "output_type": "execute_result"
    }
   ],
   "source": [
    "len(page_ko_total_docs)"
   ]
  },
  {
   "cell_type": "code",
   "execution_count": 71,
   "id": "64a00a7f-847b-42c6-a52e-e0de9c06a355",
   "metadata": {},
   "outputs": [
    {
     "data": {
      "text/plain": [
       "[Document(page_content='부칙 이 지침은 2018년 3월 1일부터 시행한다.', metadata={'doc_id': 1, 'chunk_num': 1, 'doc_name': '교육과정 편성 및 운영지침', 'section': '부칙'})]"
      ]
     },
     "execution_count": 71,
     "metadata": {},
     "output_type": "execute_result"
    }
   ],
   "source": [
    "page_ko_total_docs[0]"
   ]
  },
  {
   "cell_type": "code",
   "execution_count": 74,
   "id": "395967ac-b3d3-4e19-9e04-e69f68435b2f",
   "metadata": {},
   "outputs": [
    {
     "data": {
      "text/plain": [
       "[Document(page_content='부칙 이 지침은 2023년 8월 28일부터 시행한다.', metadata={'doc_id': 1, 'chunk_num': 1, 'doc_name': '교육과정 편성 및 운영지침', 'section': '부칙'})]"
      ]
     },
     "execution_count": 74,
     "metadata": {},
     "output_type": "execute_result"
    }
   ],
   "source": [
    "page_ko_total_docs[3]"
   ]
  },
  {
   "cell_type": "code",
   "execution_count": 73,
   "id": "4d344698-399b-4653-9b29-8edb3758ae98",
   "metadata": {},
   "outputs": [
    {
     "data": {
      "text/plain": [
       "[Document(page_content='부칙 본 학칙은 1955년 4월 1일부터 시행한다.', metadata={'doc_id': 2, 'chunk_num': 1, 'doc_name': '성균관대학교_학칙_본문', 'section': '부칙'})]"
      ]
     },
     "execution_count": 73,
     "metadata": {},
     "output_type": "execute_result"
    }
   ],
   "source": [
    "page_ko_total_docs[4]"
   ]
  },
  {
   "cell_type": "code",
   "execution_count": 72,
   "id": "33d8d2d2-b13e-49c0-a538-a93cb7efb79c",
   "metadata": {},
   "outputs": [
    {
     "data": {
      "text/plain": [
       "[Document(page_content='부칙(1976년 3월 24일 개정) (학무 1010-469) ①본 개정학칙은 1976년 3월 1일부터 시행한다. ②본 개정학칙은 1976학년도 제1학년 입학생부터 적용한다. ③1975학년도 이전 입학생에 대하여는 종전의 학칙과 본 개정학칙 제45조 내지 제48조의 규정을 적용한다. ④1975학년도 이전 입학생이 실험대학 해당 학년에 복학 또는 재입학하는 경우에는 따로 정하는 규정을 적용한다. ⑤본 개정학칙의 시행과 동시에 제2부 학칙은 폐지한다.', metadata={'doc_id': 2, 'chunk_num': 1, 'doc_name': '성균관대학교_학칙_본문', 'section': '부칙'})]"
      ]
     },
     "execution_count": 72,
     "metadata": {},
     "output_type": "execute_result"
    }
   ],
   "source": [
    "page_ko_total_docs[5]"
   ]
  },
  {
   "cell_type": "code",
   "execution_count": 75,
   "id": "36e9e707-2d94-4b1e-810a-329d6c6fc237",
   "metadata": {},
   "outputs": [
    {
     "name": "stdout",
     "output_type": "stream",
     "text": [
      "169\n"
     ]
    }
   ],
   "source": [
    "j = 0\n",
    "for i in range(len(page_ko_total_docs)):\n",
    "    db.add_documents(\n",
    "    page_ko_total_docs[i],\n",
    "    embedding=embd_model, \n",
    "    index_name=index_id,             #index(=table) name\n",
    "    vector_query_field=\"vector\" #mapping vector field name\n",
    ")\n",
    "    j = j + 1\n",
    "    \n",
    "print(j)"
   ]
  },
  {
   "cell_type": "code",
   "execution_count": null,
   "id": "fe8537bf-2fb5-4f35-8ca8-cf927cf00d30",
   "metadata": {},
   "outputs": [],
   "source": []
  }
 ],
 "metadata": {
  "kernelspec": {
   "display_name": "Python 3 (ipykernel)",
   "language": "python",
   "name": "python3"
  },
  "language_info": {
   "codemirror_mode": {
    "name": "ipython",
    "version": 3
   },
   "file_extension": ".py",
   "mimetype": "text/x-python",
   "name": "python",
   "nbconvert_exporter": "python",
   "pygments_lexer": "ipython3",
   "version": "3.10.12"
  }
 },
 "nbformat": 4,
 "nbformat_minor": 5
}
